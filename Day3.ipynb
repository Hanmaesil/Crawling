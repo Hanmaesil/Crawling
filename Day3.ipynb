{
 "cells": [
  {
   "cell_type": "markdown",
   "id": "9baa191d",
   "metadata": {},
   "source": [
    "# Selenium 라이브러리\n",
    "- 웹페이지를 자동으로 제어하는 라이브러리"
   ]
  },
  {
   "cell_type": "code",
   "execution_count": 16,
   "id": "353c0733",
   "metadata": {},
   "outputs": [
    {
     "name": "stdout",
     "output_type": "stream",
     "text": [
      "Requirement already satisfied: selenium in c:\\users\\smhrd\\anaconda3\\lib\\site-packages (4.1.0)\n",
      "Requirement already satisfied: trio~=0.17 in c:\\users\\smhrd\\anaconda3\\lib\\site-packages (from selenium) (0.19.0)\n",
      "Requirement already satisfied: trio-websocket~=0.9 in c:\\users\\smhrd\\anaconda3\\lib\\site-packages (from selenium) (0.9.2)\n",
      "Requirement already satisfied: urllib3[secure]~=1.26 in c:\\users\\smhrd\\anaconda3\\lib\\site-packages (from selenium) (1.26.7)\n",
      "Requirement already satisfied: outcome in c:\\users\\smhrd\\anaconda3\\lib\\site-packages (from trio~=0.17->selenium) (1.1.0)\n",
      "Requirement already satisfied: cffi>=1.14 in c:\\users\\smhrd\\anaconda3\\lib\\site-packages (from trio~=0.17->selenium) (1.14.6)\n",
      "Requirement already satisfied: async-generator>=1.9 in c:\\users\\smhrd\\anaconda3\\lib\\site-packages (from trio~=0.17->selenium) (1.10)\n",
      "Requirement already satisfied: idna in c:\\users\\smhrd\\anaconda3\\lib\\site-packages (from trio~=0.17->selenium) (3.2)\n",
      "Requirement already satisfied: sortedcontainers in c:\\users\\smhrd\\anaconda3\\lib\\site-packages (from trio~=0.17->selenium) (2.4.0)\n",
      "Requirement already satisfied: sniffio in c:\\users\\smhrd\\anaconda3\\lib\\site-packages (from trio~=0.17->selenium) (1.2.0)\n",
      "Requirement already satisfied: attrs>=19.2.0 in c:\\users\\smhrd\\anaconda3\\lib\\site-packages (from trio~=0.17->selenium) (21.2.0)\n",
      "Requirement already satisfied: pycparser in c:\\users\\smhrd\\anaconda3\\lib\\site-packages (from cffi>=1.14->trio~=0.17->selenium) (2.20)\n",
      "Requirement already satisfied: wsproto>=0.14 in c:\\users\\smhrd\\anaconda3\\lib\\site-packages (from trio-websocket~=0.9->selenium) (1.0.0)\n",
      "Requirement already satisfied: pyOpenSSL>=0.14 in c:\\users\\smhrd\\anaconda3\\lib\\site-packages (from urllib3[secure]~=1.26->selenium) (21.0.0)\n",
      "Requirement already satisfied: cryptography>=1.3.4 in c:\\users\\smhrd\\anaconda3\\lib\\site-packages (from urllib3[secure]~=1.26->selenium) (3.4.8)\n",
      "Requirement already satisfied: certifi in c:\\users\\smhrd\\anaconda3\\lib\\site-packages (from urllib3[secure]~=1.26->selenium) (2021.10.8)\n",
      "Requirement already satisfied: six>=1.5.2 in c:\\users\\smhrd\\anaconda3\\lib\\site-packages (from pyOpenSSL>=0.14->urllib3[secure]~=1.26->selenium) (1.16.0)\n",
      "Requirement already satisfied: h11<1,>=0.9.0 in c:\\users\\smhrd\\anaconda3\\lib\\site-packages (from wsproto>=0.14->trio-websocket~=0.9->selenium) (0.12.0)\n"
     ]
    }
   ],
   "source": [
    "#기본으로 내장된 라이브러리가 아니기 때문에 반드시 한번 설치 해야한다!!\n",
    "!pip install selenium"
   ]
  },
  {
   "cell_type": "code",
   "execution_count": 19,
   "id": "1f083fc3",
   "metadata": {},
   "outputs": [],
   "source": [
    "# webdriver : 웹을 통제하기 위한 라이브러리(크롬브라우저의 역할을 대신한다.)\n",
    "# Keys : 키보드 역할을 해주는 라이브러리!\n",
    "from selenium import webdriver as wb\n",
    "from selenium.webdriver.common.keys import Keys"
   ]
  },
  {
   "cell_type": "code",
   "execution_count": 20,
   "id": "5d12f8ba",
   "metadata": {},
   "outputs": [],
   "source": [
    "# wb.Chrome() -> 크롬창을 실행하기 위한 명령\n",
    "# .get(\"url\") -> 원하는 페이지의 정보를 요청하는 기능\n",
    "#크롬드라이버좀 실행시켜줘어어어어어어~~~\n",
    "driver = wb.Chrome()\n",
    "#드라이버야~~ 네이버 페이지 가져와줘어어어어어어~~\n",
    "driver.get(\"http://www.naver.com\")"
   ]
  },
  {
   "cell_type": "code",
   "execution_count": 25,
   "id": "1f2ed0bd",
   "metadata": {},
   "outputs": [
    {
     "name": "stderr",
     "output_type": "stream",
     "text": [
      "C:\\Users\\smhrd\\AppData\\Local\\Temp/ipykernel_9492/13403921.py:3: DeprecationWarning: find_element_by_* commands are deprecated. Please use find_element() instead\n",
      "  search = driver.find_element_by_id(\"query\")\n"
     ]
    }
   ],
   "source": [
    "#드라이버야~ 아이디가 ~~인 요소좀 찾아와라아아아아아~~\n",
    "# id를 찾아오라고 명시했기 때문에 # 은 필요 없다!\n",
    "search = driver.find_element_by_id(\"query\") "
   ]
  },
  {
   "cell_type": "code",
   "execution_count": 26,
   "id": "5d439391",
   "metadata": {},
   "outputs": [],
   "source": [
    "#검색창에 '코로나' 라는 값을 보내줘어어어어\n",
    "search.send_keys(\"코로나\")"
   ]
  },
  {
   "cell_type": "markdown",
   "id": "6a780839",
   "metadata": {},
   "source": [
    "# 검색진행하기\n",
    "1. 엔터를 입력해서 검색"
   ]
  },
  {
   "cell_type": "code",
   "execution_count": 23,
   "id": "831f5e18",
   "metadata": {},
   "outputs": [],
   "source": [
    "search.send_keys(Keys.ENTER)"
   ]
  },
  {
   "cell_type": "code",
   "execution_count": 24,
   "id": "9b6cbc0e",
   "metadata": {},
   "outputs": [],
   "source": [
    "#뒤로가기 명령\n",
    "driver.back() # html이 아닌 브라우저가 가진 기능이기 때문에 드라이버에 명령한다!"
   ]
  },
  {
   "cell_type": "markdown",
   "id": "ffd58785",
   "metadata": {},
   "source": [
    "# 검색진행하기\n",
    "2. 검색버튼을 클릭하여 검색"
   ]
  },
  {
   "cell_type": "code",
   "execution_count": 27,
   "id": "eeda6ddb",
   "metadata": {},
   "outputs": [
    {
     "name": "stderr",
     "output_type": "stream",
     "text": [
      "C:\\Users\\smhrd\\AppData\\Local\\Temp/ipykernel_9492/2351492996.py:1: DeprecationWarning: find_element_by_* commands are deprecated. Please use find_element() instead\n",
      "  btn = driver.find_element_by_id(\"search_btn\")\n"
     ]
    }
   ],
   "source": [
    "btn = driver.find_element_by_id(\"search_btn\")"
   ]
  },
  {
   "cell_type": "code",
   "execution_count": 28,
   "id": "7cede43f",
   "metadata": {},
   "outputs": [],
   "source": [
    "btn.click()"
   ]
  },
  {
   "cell_type": "markdown",
   "id": "84a9b65c",
   "metadata": {},
   "source": [
    "# 창 종료"
   ]
  },
  {
   "cell_type": "code",
   "execution_count": 29,
   "id": "59acf86a",
   "metadata": {},
   "outputs": [],
   "source": [
    "driver.close() #창 종료\n",
    "driver.quit() # 드라이버 자체를 종료시키는것!, 주로 사용하자!"
   ]
  },
  {
   "cell_type": "code",
   "execution_count": null,
   "id": "e3a03f40",
   "metadata": {},
   "outputs": [],
   "source": []
  },
  {
   "cell_type": "markdown",
   "id": "b05cb950",
   "metadata": {},
   "source": [
    "# 한솥도시락 사이트 메뉴명, 가격명 수집하기!"
   ]
  },
  {
   "cell_type": "code",
   "execution_count": 69,
   "id": "c15d90e2",
   "metadata": {},
   "outputs": [],
   "source": [
    "# 1. 브라우저 실행\n",
    "# 2. 한솥도시락 url로 이동\n",
    "driver = wb.Chrome()\n",
    "driver.get(\"https://www.hsd.co.kr/menu/menu_list\")"
   ]
  },
  {
   "cell_type": "code",
   "execution_count": 70,
   "id": "567ca097",
   "metadata": {},
   "outputs": [
    {
     "name": "stderr",
     "output_type": "stream",
     "text": [
      "C:\\Users\\smhrd\\AppData\\Local\\Temp/ipykernel_9492/3769093897.py:1: DeprecationWarning: find_elements_by_* commands are deprecated. Please use find_elements() instead\n",
      "  title = driver.find_elements_by_css_selector(\"h4.h.fz_03\")\n"
     ]
    }
   ],
   "source": [
    "title = driver.find_elements_by_css_selector(\"h4.h.fz_03\")"
   ]
  },
  {
   "cell_type": "code",
   "execution_count": 71,
   "id": "bf789409",
   "metadata": {},
   "outputs": [
    {
     "name": "stdout",
     "output_type": "stream",
     "text": [
      "행사 숯불직화구이 덮밥\n",
      "행사 제육 김치 부대찌개 정식\n",
      "행사 빅치킨마요 김치 부대찌개 정식\n",
      "행사 돈까스도련님 고기고기\n",
      "행사 동백\n",
      "행사 새치 고기고기\n",
      "행사 진달래\n",
      "행사 스팸 김치볶음밥\n",
      "매화(치킨, 연어구이)\n",
      "매화(순살 고등어 간장구이)\n",
      "진달래\n",
      "개나리(순살 고등어 간장구이)\n",
      "돈까스도련님고기고기\n",
      "탕수육도련님고기고기\n",
      "새치 고기고기\n",
      "돈치 고기고기\n",
      "고기고기\n",
      "숯불직화구이\n",
      "소불고기\n",
      "메가치킨제육\n",
      "칠리 찹쌀탕수육도련님\n",
      "동백\n",
      "치킨제육\n",
      "돈까스도련님\n",
      "제육볶음\n",
      "돈치스팸 도시락\n",
      "제육 김치찌개 정식\n",
      "제육 김치 부대찌개 정식\n",
      "돈치스팸 김치 부대찌개 정식\n",
      "빅치킨마요 김치 부대찌개 정식\n",
      "치킨마요 김치 부대찌개 정식\n",
      "돈치스팸 김치찌개 정식\n",
      "빅치킨마요 김치찌개 정식\n",
      "치킨마요 김치찌개 정식\n",
      "메가스팸마요\n",
      "스팸마요\n",
      "메가치킨마요\n",
      "왕치킨마요\n",
      "빅치킨마요\n",
      "치킨마요\n",
      "참치마요\n",
      "돈치마요\n",
      "치즈 카레도시락\n",
      "돈까스 카레\n",
      "3종치즈 김치볶음밥\n",
      "스팸 김치볶음밥\n",
      "김치볶음밥\n",
      "스팸철판볶음밥\n",
      "소불고기 철판볶음밥\n",
      "소고기 육개장\n",
      "묵은지 김치찌개\n",
      "김치 부대찌개\n",
      "반찬 김치 부대찌개\n",
      "숯불직화구이 덮밥\n",
      "마파두부 덮밥\n",
      "왕카레돈까스덮밥\n",
      "새우돈까스 덮밥\n",
      "돈까스 덮밥\n",
      "소불고기 감초고추장 비빔밥\n",
      "시골제육 두부강된장 비빔밥\n",
      "참치야채 감초고추장\n",
      "두부강정 야채비빔밥\n",
      "열무 두부강된장 비빔밥\n",
      "튼튼도시락\n"
     ]
    }
   ],
   "source": [
    "for i in title :\n",
    "    print(i.text)"
   ]
  },
  {
   "cell_type": "code",
   "execution_count": 72,
   "id": "cd6b1b2f",
   "metadata": {},
   "outputs": [
    {
     "name": "stderr",
     "output_type": "stream",
     "text": [
      "C:\\Users\\smhrd\\AppData\\Local\\Temp/ipykernel_9492/3835595896.py:1: DeprecationWarning: find_elements_by_* commands are deprecated. Please use find_elements() instead\n",
      "  price = driver.find_elements_by_css_selector(\"div.item-price>strong\")\n"
     ]
    }
   ],
   "source": [
    "price = driver.find_elements_by_css_selector(\"div.item-price>strong\")"
   ]
  },
  {
   "cell_type": "code",
   "execution_count": 73,
   "id": "c3c7f8b7",
   "metadata": {},
   "outputs": [
    {
     "name": "stdout",
     "output_type": "stream",
     "text": [
      "4,900\n",
      "7,200\n",
      "6,300\n",
      "4,900\n",
      "4,600\n",
      "5,200\n",
      "5,900\n",
      "3,900\n",
      "10,000\n",
      "10,000\n",
      "7,000\n",
      "8,000\n",
      "5,800\n",
      "5,800\n",
      "6,200\n",
      "5,400\n",
      "4,200\n",
      "6,500\n",
      "5,000\n",
      "7,000\n",
      "4,200\n",
      "5,500\n",
      "4,500\n",
      "4,200\n",
      "4,100\n",
      "4,700\n",
      "8,200\n",
      "8,500\n",
      "8,500\n",
      "7,400\n",
      "6,800\n",
      "8,200\n",
      "7,000\n",
      "6,400\n",
      "5,600\n",
      "3,600\n",
      "5,500\n",
      "4,500\n",
      "3,800\n",
      "3,200\n",
      "3,000\n",
      "3,600\n",
      "4,100\n",
      "4,200\n",
      "4,800\n",
      "4,700\n",
      "3,900\n",
      "4,500\n",
      "4,500\n",
      "4,700\n",
      "4,500\n",
      "5,800\n",
      "4,500\n",
      "5,900\n",
      "5,000\n",
      "5,700\n",
      "3,900\n",
      "3,800\n",
      "5,000\n",
      "5,000\n",
      "3,200\n",
      "4,800\n",
      "4,300\n",
      "5,000\n"
     ]
    }
   ],
   "source": [
    "for i in price :\n",
    "    print(i.text)"
   ]
  },
  {
   "cell_type": "code",
   "execution_count": 61,
   "id": "bafeda23",
   "metadata": {},
   "outputs": [
    {
     "name": "stderr",
     "output_type": "stream",
     "text": [
      "C:\\Users\\smhrd\\AppData\\Local\\Temp/ipykernel_9492/2570603095.py:2: DeprecationWarning: find_element_by_* commands are deprecated. Please use find_element() instead\n",
      "  btn = driver.find_element_by_css_selector(\"a.c_05\")\n"
     ]
    }
   ],
   "source": [
    "#더보기 버튼을 클릭\n",
    "btn = driver.find_element_by_css_selector(\"a.c_05\")"
   ]
  },
  {
   "cell_type": "code",
   "execution_count": 55,
   "id": "de30de01",
   "metadata": {},
   "outputs": [],
   "source": [
    "btn.click()"
   ]
  },
  {
   "cell_type": "markdown",
   "id": "5b48610d",
   "metadata": {},
   "source": [
    "# 예외처리 try, except\n",
    "- try : 오류 나기전까지 실행할 로직을 작성한다.\n",
    "- except : 오류가 났을때 실행할 로직"
   ]
  },
  {
   "cell_type": "code",
   "execution_count": 57,
   "id": "e8098524",
   "metadata": {},
   "outputs": [],
   "source": [
    "#time 라이브러리\n",
    "# -> 코드 중간중간에 쉬는시간을 부여\n",
    "import time"
   ]
  },
  {
   "cell_type": "code",
   "execution_count": 62,
   "id": "785b4cdd",
   "metadata": {},
   "outputs": [
    {
     "name": "stdout",
     "output_type": "stream",
     "text": [
      "더보기가 끝났습니다.\n"
     ]
    }
   ],
   "source": [
    "try : \n",
    "    for i in range(10) :\n",
    "        btn.click()\n",
    "        time.sleep(2) # 클릭을 하고 2초동안 멈춘다.\n",
    "except :\n",
    "    print(\"더보기가 끝났습니다.\")"
   ]
  },
  {
   "cell_type": "code",
   "execution_count": null,
   "id": "fc589743",
   "metadata": {},
   "outputs": [],
   "source": [
    "#데이터프레임으로 만들기"
   ]
  },
  {
   "cell_type": "code",
   "execution_count": 63,
   "id": "a8c8f9f8",
   "metadata": {},
   "outputs": [],
   "source": [
    "import pandas as pd"
   ]
  },
  {
   "cell_type": "code",
   "execution_count": 80,
   "id": "5dfe9ccc",
   "metadata": {},
   "outputs": [],
   "source": [
    "title_list = []\n",
    "price_list = []\n",
    "turn_list = []\n",
    "\n",
    "for i in range(len(title)) :\n",
    "    title_list.append(title[i].text)\n",
    "    price_list.append(price[i].text)\n",
    "    turn_list.append(i+1)"
   ]
  },
  {
   "cell_type": "code",
   "execution_count": 81,
   "id": "581d8f87",
   "metadata": {
    "scrolled": true
   },
   "outputs": [
    {
     "data": {
      "text/plain": [
       "['행사 숯불직화구이 덮밥',\n",
       " '행사 제육 김치 부대찌개 정식',\n",
       " '행사 빅치킨마요 김치 부대찌개 정식',\n",
       " '행사 돈까스도련님 고기고기',\n",
       " '행사 동백',\n",
       " '행사 새치 고기고기',\n",
       " '행사 진달래',\n",
       " '행사 스팸 김치볶음밥',\n",
       " '매화(치킨, 연어구이)',\n",
       " '매화(순살 고등어 간장구이)',\n",
       " '진달래',\n",
       " '개나리(순살 고등어 간장구이)',\n",
       " '돈까스도련님고기고기',\n",
       " '탕수육도련님고기고기',\n",
       " '새치 고기고기',\n",
       " '돈치 고기고기',\n",
       " '고기고기',\n",
       " '숯불직화구이',\n",
       " '소불고기',\n",
       " '메가치킨제육',\n",
       " '칠리 찹쌀탕수육도련님',\n",
       " '동백',\n",
       " '치킨제육',\n",
       " '돈까스도련님',\n",
       " '제육볶음',\n",
       " '돈치스팸 도시락',\n",
       " '제육 김치찌개 정식',\n",
       " '제육 김치 부대찌개 정식',\n",
       " '돈치스팸 김치 부대찌개 정식',\n",
       " '빅치킨마요 김치 부대찌개 정식',\n",
       " '치킨마요 김치 부대찌개 정식',\n",
       " '돈치스팸 김치찌개 정식',\n",
       " '빅치킨마요 김치찌개 정식',\n",
       " '치킨마요 김치찌개 정식',\n",
       " '메가스팸마요',\n",
       " '스팸마요',\n",
       " '메가치킨마요',\n",
       " '왕치킨마요',\n",
       " '빅치킨마요',\n",
       " '치킨마요',\n",
       " '참치마요',\n",
       " '돈치마요',\n",
       " '치즈 카레도시락',\n",
       " '돈까스 카레',\n",
       " '3종치즈 김치볶음밥',\n",
       " '스팸 김치볶음밥',\n",
       " '김치볶음밥',\n",
       " '스팸철판볶음밥',\n",
       " '소불고기 철판볶음밥',\n",
       " '소고기 육개장',\n",
       " '묵은지 김치찌개',\n",
       " '김치 부대찌개',\n",
       " '반찬 김치 부대찌개',\n",
       " '숯불직화구이 덮밥',\n",
       " '마파두부 덮밥',\n",
       " '왕카레돈까스덮밥',\n",
       " '새우돈까스 덮밥',\n",
       " '돈까스 덮밥',\n",
       " '소불고기 감초고추장 비빔밥',\n",
       " '시골제육 두부강된장 비빔밥',\n",
       " '참치야채 감초고추장',\n",
       " '두부강정 야채비빔밥',\n",
       " '열무 두부강된장 비빔밥',\n",
       " '튼튼도시락']"
      ]
     },
     "execution_count": 81,
     "metadata": {},
     "output_type": "execute_result"
    }
   ],
   "source": [
    "title_list"
   ]
  },
  {
   "cell_type": "code",
   "execution_count": 82,
   "id": "1e0afe3f",
   "metadata": {
    "collapsed": true
   },
   "outputs": [
    {
     "data": {
      "text/plain": [
       "['4,900',\n",
       " '7,200',\n",
       " '6,300',\n",
       " '4,900',\n",
       " '4,600',\n",
       " '5,200',\n",
       " '5,900',\n",
       " '3,900',\n",
       " '10,000',\n",
       " '10,000',\n",
       " '7,000',\n",
       " '8,000',\n",
       " '5,800',\n",
       " '5,800',\n",
       " '6,200',\n",
       " '5,400',\n",
       " '4,200',\n",
       " '6,500',\n",
       " '5,000',\n",
       " '7,000',\n",
       " '4,200',\n",
       " '5,500',\n",
       " '4,500',\n",
       " '4,200',\n",
       " '4,100',\n",
       " '4,700',\n",
       " '8,200',\n",
       " '8,500',\n",
       " '8,500',\n",
       " '7,400',\n",
       " '6,800',\n",
       " '8,200',\n",
       " '7,000',\n",
       " '6,400',\n",
       " '5,600',\n",
       " '3,600',\n",
       " '5,500',\n",
       " '4,500',\n",
       " '3,800',\n",
       " '3,200',\n",
       " '3,000',\n",
       " '3,600',\n",
       " '4,100',\n",
       " '4,200',\n",
       " '4,800',\n",
       " '4,700',\n",
       " '3,900',\n",
       " '4,500',\n",
       " '4,500',\n",
       " '4,700',\n",
       " '4,500',\n",
       " '5,800',\n",
       " '4,500',\n",
       " '5,900',\n",
       " '5,000',\n",
       " '5,700',\n",
       " '3,900',\n",
       " '3,800',\n",
       " '5,000',\n",
       " '5,000',\n",
       " '3,200',\n",
       " '4,800',\n",
       " '4,300',\n",
       " '5,000']"
      ]
     },
     "execution_count": 82,
     "metadata": {},
     "output_type": "execute_result"
    }
   ],
   "source": [
    "price_list"
   ]
  },
  {
   "cell_type": "code",
   "execution_count": 83,
   "id": "10d5923c",
   "metadata": {},
   "outputs": [
    {
     "data": {
      "text/plain": [
       "[1,\n",
       " 2,\n",
       " 3,\n",
       " 4,\n",
       " 5,\n",
       " 6,\n",
       " 7,\n",
       " 8,\n",
       " 9,\n",
       " 10,\n",
       " 11,\n",
       " 12,\n",
       " 13,\n",
       " 14,\n",
       " 15,\n",
       " 16,\n",
       " 17,\n",
       " 18,\n",
       " 19,\n",
       " 20,\n",
       " 21,\n",
       " 22,\n",
       " 23,\n",
       " 24,\n",
       " 25,\n",
       " 26,\n",
       " 27,\n",
       " 28,\n",
       " 29,\n",
       " 30,\n",
       " 31,\n",
       " 32,\n",
       " 33,\n",
       " 34,\n",
       " 35,\n",
       " 36,\n",
       " 37,\n",
       " 38,\n",
       " 39,\n",
       " 40,\n",
       " 41,\n",
       " 42,\n",
       " 43,\n",
       " 44,\n",
       " 45,\n",
       " 46,\n",
       " 47,\n",
       " 48,\n",
       " 49,\n",
       " 50,\n",
       " 51,\n",
       " 52,\n",
       " 53,\n",
       " 54,\n",
       " 55,\n",
       " 56,\n",
       " 57,\n",
       " 58,\n",
       " 59,\n",
       " 60,\n",
       " 61,\n",
       " 62,\n",
       " 63,\n",
       " 64]"
      ]
     },
     "execution_count": 83,
     "metadata": {},
     "output_type": "execute_result"
    }
   ],
   "source": [
    "turn_list"
   ]
  },
  {
   "cell_type": "code",
   "execution_count": 84,
   "id": "e0109a53",
   "metadata": {},
   "outputs": [],
   "source": [
    "dic = {\"메뉴명\" : title_list, \"가격\" : price_list, \"순번\" : turn_list}\n",
    "menu = pd.DataFrame(dic)\n",
    "menu.set_index(\"순번\", inplace = True)"
   ]
  },
  {
   "cell_type": "code",
   "execution_count": 85,
   "id": "83aaaed4",
   "metadata": {},
   "outputs": [
    {
     "data": {
      "text/html": [
       "<div>\n",
       "<style scoped>\n",
       "    .dataframe tbody tr th:only-of-type {\n",
       "        vertical-align: middle;\n",
       "    }\n",
       "\n",
       "    .dataframe tbody tr th {\n",
       "        vertical-align: top;\n",
       "    }\n",
       "\n",
       "    .dataframe thead th {\n",
       "        text-align: right;\n",
       "    }\n",
       "</style>\n",
       "<table border=\"1\" class=\"dataframe\">\n",
       "  <thead>\n",
       "    <tr style=\"text-align: right;\">\n",
       "      <th></th>\n",
       "      <th>메뉴명</th>\n",
       "      <th>가격</th>\n",
       "    </tr>\n",
       "    <tr>\n",
       "      <th>순번</th>\n",
       "      <th></th>\n",
       "      <th></th>\n",
       "    </tr>\n",
       "  </thead>\n",
       "  <tbody>\n",
       "    <tr>\n",
       "      <th>1</th>\n",
       "      <td>행사 숯불직화구이 덮밥</td>\n",
       "      <td>4,900</td>\n",
       "    </tr>\n",
       "    <tr>\n",
       "      <th>2</th>\n",
       "      <td>행사 제육 김치 부대찌개 정식</td>\n",
       "      <td>7,200</td>\n",
       "    </tr>\n",
       "    <tr>\n",
       "      <th>3</th>\n",
       "      <td>행사 빅치킨마요 김치 부대찌개 정식</td>\n",
       "      <td>6,300</td>\n",
       "    </tr>\n",
       "    <tr>\n",
       "      <th>4</th>\n",
       "      <td>행사 돈까스도련님 고기고기</td>\n",
       "      <td>4,900</td>\n",
       "    </tr>\n",
       "    <tr>\n",
       "      <th>5</th>\n",
       "      <td>행사 동백</td>\n",
       "      <td>4,600</td>\n",
       "    </tr>\n",
       "    <tr>\n",
       "      <th>...</th>\n",
       "      <td>...</td>\n",
       "      <td>...</td>\n",
       "    </tr>\n",
       "    <tr>\n",
       "      <th>60</th>\n",
       "      <td>시골제육 두부강된장 비빔밥</td>\n",
       "      <td>5,000</td>\n",
       "    </tr>\n",
       "    <tr>\n",
       "      <th>61</th>\n",
       "      <td>참치야채 감초고추장</td>\n",
       "      <td>3,200</td>\n",
       "    </tr>\n",
       "    <tr>\n",
       "      <th>62</th>\n",
       "      <td>두부강정 야채비빔밥</td>\n",
       "      <td>4,800</td>\n",
       "    </tr>\n",
       "    <tr>\n",
       "      <th>63</th>\n",
       "      <td>열무 두부강된장 비빔밥</td>\n",
       "      <td>4,300</td>\n",
       "    </tr>\n",
       "    <tr>\n",
       "      <th>64</th>\n",
       "      <td>튼튼도시락</td>\n",
       "      <td>5,000</td>\n",
       "    </tr>\n",
       "  </tbody>\n",
       "</table>\n",
       "<p>64 rows × 2 columns</p>\n",
       "</div>"
      ],
      "text/plain": [
       "                    메뉴명     가격\n",
       "순번                            \n",
       "1          행사 숯불직화구이 덮밥  4,900\n",
       "2      행사 제육 김치 부대찌개 정식  7,200\n",
       "3   행사 빅치킨마요 김치 부대찌개 정식  6,300\n",
       "4        행사 돈까스도련님 고기고기  4,900\n",
       "5                 행사 동백  4,600\n",
       "..                  ...    ...\n",
       "60       시골제육 두부강된장 비빔밥  5,000\n",
       "61           참치야채 감초고추장  3,200\n",
       "62           두부강정 야채비빔밥  4,800\n",
       "63         열무 두부강된장 비빔밥  4,300\n",
       "64                튼튼도시락  5,000\n",
       "\n",
       "[64 rows x 2 columns]"
      ]
     },
     "execution_count": 85,
     "metadata": {},
     "output_type": "execute_result"
    }
   ],
   "source": [
    "menu"
   ]
  },
  {
   "cell_type": "code",
   "execution_count": 87,
   "id": "ffa10f58",
   "metadata": {},
   "outputs": [],
   "source": [
    "# csv 파일로 추출하기\n",
    "menu.to_csv(\"한솥.csv\", encoding=\"euc-kr\") #작업하고 있는 폴더에 저장된다."
   ]
  },
  {
   "cell_type": "code",
   "execution_count": null,
   "id": "6e98599b",
   "metadata": {},
   "outputs": [],
   "source": [
    "#한글 인코딩 방법\n",
    "# 1. euc-kr\n",
    "# 2. \"\"  ->> 그냥 비워놓는 방법\n",
    "# 3. utf-8-sig"
   ]
  },
  {
   "cell_type": "code",
   "execution_count": 88,
   "id": "3c9d5a34",
   "metadata": {},
   "outputs": [],
   "source": [
    "# html 파일로 추출하기\n",
    "menu.to_html(\"한솥.html\") #-> table 형태로 저장된다."
   ]
  },
  {
   "cell_type": "code",
   "execution_count": null,
   "id": "057874e6",
   "metadata": {},
   "outputs": [],
   "source": []
  },
  {
   "cell_type": "code",
   "execution_count": null,
   "id": "a359a504",
   "metadata": {},
   "outputs": [],
   "source": []
  },
  {
   "cell_type": "code",
   "execution_count": null,
   "id": "3d57a08d",
   "metadata": {},
   "outputs": [],
   "source": []
  },
  {
   "cell_type": "code",
   "execution_count": null,
   "id": "2e617390",
   "metadata": {},
   "outputs": [],
   "source": []
  }
 ],
 "metadata": {
  "kernelspec": {
   "display_name": "Python 3 (ipykernel)",
   "language": "python",
   "name": "python3"
  },
  "language_info": {
   "codemirror_mode": {
    "name": "ipython",
    "version": 3
   },
   "file_extension": ".py",
   "mimetype": "text/x-python",
   "name": "python",
   "nbconvert_exporter": "python",
   "pygments_lexer": "ipython3",
   "version": "3.9.7"
  }
 },
 "nbformat": 4,
 "nbformat_minor": 5
}
